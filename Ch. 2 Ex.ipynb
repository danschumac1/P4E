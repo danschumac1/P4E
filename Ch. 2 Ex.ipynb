{
 "cells": [
  {
   "cell_type": "markdown",
   "id": "68649cec",
   "metadata": {},
   "source": [
    "## Exercise 2: \n",
    "#### Write a program that uses input to prompt a user for their name and then welcomes them.\n",
    "- Enter your name: Chuck\n",
    "- Hello Chuck\n"
   ]
  },
  {
   "cell_type": "code",
   "execution_count": 3,
   "id": "bd109aee",
   "metadata": {},
   "outputs": [
    {
     "name": "stdout",
     "output_type": "stream",
     "text": [
      "Enter your name: Dan\n",
      "Hello Dan\n"
     ]
    }
   ],
   "source": [
    "name = input('Enter your name: ')\n",
    "print('Hello {}'.format(name))"
   ]
  },
  {
   "cell_type": "markdown",
   "id": "11b86488",
   "metadata": {},
   "source": [
    "## Exercise 3: \n",
    "#### Write a program to prompt the user for hours and rate per hour to compute gross pay.\n",
    "- Enter Hours: 35\n",
    "- Enter Rate: 2.75\n",
    "- Pay: 96.25\n",
    "\n",
    "We won’t worry about making sure our pay has exactly two digits after the decimal\n",
    "place for now. If you want, you can play with the built-in Python round function\n",
    "to properly round the resulting pay to two decimal places.\n"
   ]
  },
  {
   "cell_type": "code",
   "execution_count": 8,
   "id": "16f14a5d",
   "metadata": {},
   "outputs": [
    {
     "name": "stdout",
     "output_type": "stream",
     "text": [
      "Enter hours: 4.5\n",
      "Enter rate: 5.234322\n",
      "Pay 23.55\n"
     ]
    }
   ],
   "source": [
    "hours = float(input('Enter hours: '))\n",
    "rate = float(input('Enter rate: '))\n",
    "pay = hours*rate\n",
    "print('Pay {:.2f}'.format(pay))"
   ]
  },
  {
   "cell_type": "markdown",
   "id": "a7a3a19f",
   "metadata": {},
   "source": [
    "## Exercise 4: \n",
    "#### Assume that we execute the following assignment statements:\n",
    "- width = 17\n",
    "- height = 12.0\n",
    "- For each of the following expressions, write the value of the expression and the type (of the value of the expression).\n",
    "    1. width//2\n",
    "    2. width/2.0\n",
    "    3. height/3\n",
    "    4. 1 + 2 * 5\n",
    "Use the Python interpreter to check your answers.\n"
   ]
  },
  {
   "cell_type": "code",
   "execution_count": 9,
   "id": "5b826f8c",
   "metadata": {},
   "outputs": [],
   "source": [
    "# guesses\n",
    "# 1.     THIS DIVIDES WITHOUT A REMAINDER!\n",
    "# 2.     8.5\n",
    "# 3.     4.0\n",
    "# 4.     11\n",
    "\n",
    "width = 17\n",
    "height = 12.0"
   ]
  },
  {
   "cell_type": "code",
   "execution_count": 10,
   "id": "4660ba15",
   "metadata": {},
   "outputs": [
    {
     "data": {
      "text/plain": [
       "8"
      ]
     },
     "execution_count": 10,
     "metadata": {},
     "output_type": "execute_result"
    }
   ],
   "source": [
    "width//2"
   ]
  },
  {
   "cell_type": "code",
   "execution_count": 11,
   "id": "9f5dc610",
   "metadata": {},
   "outputs": [
    {
     "data": {
      "text/plain": [
       "8.5"
      ]
     },
     "execution_count": 11,
     "metadata": {},
     "output_type": "execute_result"
    }
   ],
   "source": [
    "width/2.0"
   ]
  },
  {
   "cell_type": "code",
   "execution_count": 12,
   "id": "adabdca8",
   "metadata": {},
   "outputs": [
    {
     "data": {
      "text/plain": [
       "4.0"
      ]
     },
     "execution_count": 12,
     "metadata": {},
     "output_type": "execute_result"
    }
   ],
   "source": [
    "height/3"
   ]
  },
  {
   "cell_type": "code",
   "execution_count": 13,
   "id": "69f9868a",
   "metadata": {},
   "outputs": [
    {
     "data": {
      "text/plain": [
       "11"
      ]
     },
     "execution_count": 13,
     "metadata": {},
     "output_type": "execute_result"
    }
   ],
   "source": [
    "1 + 2 * 5"
   ]
  },
  {
   "cell_type": "markdown",
   "id": "a755feda",
   "metadata": {},
   "source": [
    "## Exercise 5: \n",
    "#### Write a program which prompts the user for a Celsius temperature, convert the temperature to Fahrenheit, and print out the converted temperature."
   ]
  },
  {
   "cell_type": "code",
   "execution_count": 14,
   "id": "f3eb148a",
   "metadata": {},
   "outputs": [
    {
     "name": "stdout",
     "output_type": "stream",
     "text": [
      "Please enter Celsius temperature to be converted: 456\n",
      "In Fahrenheit, that is: 852.80\n"
     ]
    }
   ],
   "source": [
    "celsius = float(input('Please enter Celsius temperature to be converted: '))\n",
    "fahrenheit = (celsius*1.8) + 32\n",
    "print('In Fahrenheit, that is: {:.2f}'.format(fahrenheit))"
   ]
  }
 ],
 "metadata": {
  "hide_input": false,
  "kernelspec": {
   "display_name": "Python 3 (ipykernel)",
   "language": "python",
   "name": "python3"
  },
  "language_info": {
   "codemirror_mode": {
    "name": "ipython",
    "version": 3
   },
   "file_extension": ".py",
   "mimetype": "text/x-python",
   "name": "python",
   "nbconvert_exporter": "python",
   "pygments_lexer": "ipython3",
   "version": "3.9.12"
  }
 },
 "nbformat": 4,
 "nbformat_minor": 5
}
