{
 "cells": [
  {
   "cell_type": "code",
   "execution_count": 1,
   "id": "cacd5b01",
   "metadata": {},
   "outputs": [],
   "source": [
    "A = (3 * (42 / 3)) > 4"
   ]
  },
  {
   "cell_type": "code",
   "execution_count": 2,
   "id": "9984a7f7",
   "metadata": {},
   "outputs": [
    {
     "data": {
      "text/plain": [
       "bool"
      ]
     },
     "execution_count": 2,
     "metadata": {},
     "output_type": "execute_result"
    }
   ],
   "source": [
    "type(A)"
   ]
  },
  {
   "cell_type": "code",
   "execution_count": 3,
   "id": "46bb7be3",
   "metadata": {},
   "outputs": [],
   "source": [
    "A = \"Data Foundations is Fun!\" * 42"
   ]
  },
  {
   "cell_type": "code",
   "execution_count": 4,
   "id": "c1b5a045",
   "metadata": {},
   "outputs": [
    {
     "data": {
      "text/plain": [
       "str"
      ]
     },
     "execution_count": 4,
     "metadata": {},
     "output_type": "execute_result"
    }
   ],
   "source": [
    "type(A)"
   ]
  },
  {
   "cell_type": "code",
   "execution_count": 6,
   "id": "a38e4070",
   "metadata": {},
   "outputs": [],
   "source": [
    "a = 3\n",
    "\n",
    "tmp = 10 - 7\n",
    "\n",
    "limit = 10\n",
    "\n",
    "words = 5"
   ]
  },
  {
   "cell_type": "code",
   "execution_count": 8,
   "id": "1287ce90",
   "metadata": {},
   "outputs": [
    {
     "data": {
      "text/plain": [
       "False"
      ]
     },
     "execution_count": 8,
     "metadata": {},
     "output_type": "execute_result"
    }
   ],
   "source": [
    "(tmp > 0) and (limit - words < a)"
   ]
  },
  {
   "cell_type": "code",
   "execution_count": 9,
   "id": "3a6fa36b",
   "metadata": {},
   "outputs": [
    {
     "data": {
      "text/plain": [
       "False"
      ]
     },
     "execution_count": 9,
     "metadata": {},
     "output_type": "execute_result"
    }
   ],
   "source": [
    "words * a < limit"
   ]
  },
  {
   "cell_type": "code",
   "execution_count": 10,
   "id": "f684b90f",
   "metadata": {},
   "outputs": [
    {
     "data": {
      "text/plain": [
       "False"
      ]
     },
     "execution_count": 10,
     "metadata": {},
     "output_type": "execute_result"
    }
   ],
   "source": [
    "not ( words < limit )"
   ]
  },
  {
   "cell_type": "code",
   "execution_count": 11,
   "id": "5bd84101",
   "metadata": {},
   "outputs": [
    {
     "data": {
      "text/plain": [
       "False"
      ]
     },
     "execution_count": 11,
     "metadata": {},
     "output_type": "execute_result"
    }
   ],
   "source": [
    "a == limit - words"
   ]
  },
  {
   "cell_type": "code",
   "execution_count": 12,
   "id": "fe26c429",
   "metadata": {},
   "outputs": [
    {
     "data": {
      "text/plain": [
       "True"
      ]
     },
     "execution_count": 12,
     "metadata": {},
     "output_type": "execute_result"
    }
   ],
   "source": [
    "(a > limit) or ( tmp < words )"
   ]
  },
  {
   "cell_type": "code",
   "execution_count": null,
   "id": "fe44e5f2",
   "metadata": {},
   "outputs": [],
   "source": []
  }
 ],
 "metadata": {
  "hide_input": false,
  "kernelspec": {
   "display_name": "Python 3 (ipykernel)",
   "language": "python",
   "name": "python3"
  },
  "language_info": {
   "codemirror_mode": {
    "name": "ipython",
    "version": 3
   },
   "file_extension": ".py",
   "mimetype": "text/x-python",
   "name": "python",
   "nbconvert_exporter": "python",
   "pygments_lexer": "ipython3",
   "version": "3.9.12"
  }
 },
 "nbformat": 4,
 "nbformat_minor": 5
}
