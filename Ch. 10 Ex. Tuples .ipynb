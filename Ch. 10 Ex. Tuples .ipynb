{
 "cells": [
  {
   "cell_type": "markdown",
   "id": "b610ba24",
   "metadata": {
    "hideCode": false,
    "hidePrompt": false
   },
   "source": [
    "# Tuples"
   ]
  },
  {
   "cell_type": "markdown",
   "id": "4fd00c9b",
   "metadata": {
    "hideCode": false,
    "hidePrompt": false
   },
   "source": [
    "## Notes"
   ]
  },
  {
   "cell_type": "code",
   "execution_count": 10,
   "id": "42953d58",
   "metadata": {
    "hideCode": false,
    "hidePrompt": false
   },
   "outputs": [
    {
     "name": "stdout",
     "output_type": "stream",
     "text": [
      "but soft what light in yonder window breaks\n",
      "['but', 'soft', 'what', 'light', 'in', 'yonder', 'window', 'breaks']\n",
      "[(3, 'but'), (4, 'soft'), (4, 'what'), (5, 'light'), (2, 'in'), (6, 'yonder'), (6, 'window'), (6, 'breaks')]\n",
      "[(6, 'yonder'), (6, 'window'), (6, 'breaks'), (5, 'light'), (4, 'what'), (4, 'soft'), (3, 'but'), (2, 'in')]\n",
      "['yonder', 'window', 'breaks', 'light', 'what', 'soft', 'but', 'in']\n"
     ]
    }
   ],
   "source": [
    "txt = 'but soft what light in yonder window breaks'\n",
    "print(txt)\n",
    "\n",
    "words = txt.split()\n",
    "print(words)\n",
    "\n",
    "t = list()\n",
    "for word in words:\n",
    "    t.append((len(word),word))\n",
    "print(t)\n",
    "\n",
    "t.sort(reverse=True)\n",
    "print(t)\n",
    "\n",
    "res = list()\n",
    "for length, word in t:\n",
    "    res.append(word)\n",
    "print(res)"
   ]
  },
  {
   "cell_type": "markdown",
   "id": "a7973569",
   "metadata": {
    "hideCode": false,
    "hidePrompt": false
   },
   "source": [
    "### Tuple assignment"
   ]
  },
  {
   "cell_type": "code",
   "execution_count": 12,
   "id": "28bc013e",
   "metadata": {
    "hideCode": false,
    "hidePrompt": false
   },
   "outputs": [
    {
     "name": "stdout",
     "output_type": "stream",
     "text": [
      "have\n",
      "fun\n"
     ]
    }
   ],
   "source": [
    "m = ['have','fun']\n",
    "x,y = m\n",
    "print(x)\n",
    "print(y)"
   ]
  },
  {
   "cell_type": "code",
   "execution_count": 17,
   "id": "e4bab3e7",
   "metadata": {
    "hideCode": false,
    "hidePrompt": false
   },
   "outputs": [
    {
     "name": "stdout",
     "output_type": "stream",
     "text": [
      "a: swiss\n",
      "b: cheese\n",
      "\n",
      "\n",
      "a: cheese\n",
      "b: swiss\n"
     ]
    }
   ],
   "source": [
    "#swap values of single statement\n",
    "a = 'swiss'\n",
    "b= 'cheese'\n",
    "print(f'a: {a}\\nb: {b}')\n",
    "a,b = b,a\n",
    "\n",
    "print('\\n')\n",
    "print(f'a: {a}\\nb: {b}')\n"
   ]
  },
  {
   "cell_type": "code",
   "execution_count": 19,
   "id": "d10eecde",
   "metadata": {
    "hideCode": false,
    "hidePrompt": false
   },
   "outputs": [
    {
     "name": "stdout",
     "output_type": "stream",
     "text": [
      "monty python.org\n"
     ]
    }
   ],
   "source": [
    "addr = 'monty@python.org'\n",
    "uname, domain = addr.split('@')\n",
    "print(uname, domain)"
   ]
  },
  {
   "cell_type": "code",
   "execution_count": 27,
   "id": "e5b01ba5",
   "metadata": {
    "hideCode": false,
    "hidePrompt": false
   },
   "outputs": [
    {
     "name": "stdout",
     "output_type": "stream",
     "text": [
      "[('b', 1), ('a', 10), ('c', 22)]\n"
     ]
    }
   ],
   "source": [
    "d = {'b':1, 'a':10, 'c':22}\n",
    "t = list(d.items())\n",
    "print(t)\n"
   ]
  },
  {
   "cell_type": "code",
   "execution_count": 28,
   "id": "d027db2e",
   "metadata": {
    "hideCode": false,
    "hidePrompt": false
   },
   "outputs": [
    {
     "data": {
      "text/plain": [
       "[('a', 10), ('b', 1), ('c', 22)]"
      ]
     },
     "execution_count": 28,
     "metadata": {},
     "output_type": "execute_result"
    }
   ],
   "source": [
    "# sorting by key\n",
    "t.sort()\n",
    "t"
   ]
  },
  {
   "cell_type": "code",
   "execution_count": 29,
   "id": "42fc760b",
   "metadata": {
    "hideCode": false,
    "hidePrompt": false
   },
   "outputs": [
    {
     "name": "stdout",
     "output_type": "stream",
     "text": [
      "1 b\n",
      "10 a\n",
      "22 c\n"
     ]
    }
   ],
   "source": [
    "for key, val in list(d.items()):\n",
    "    print(val, key) "
   ]
  },
  {
   "cell_type": "code",
   "execution_count": 30,
   "id": "0fee1dbb",
   "metadata": {
    "hideCode": false,
    "hidePrompt": false
   },
   "outputs": [
    {
     "name": "stdout",
     "output_type": "stream",
     "text": [
      "[(1, 'b'), (10, 'a'), (22, 'c')]\n"
     ]
    }
   ],
   "source": [
    "# sorting by value\n",
    "key_sorted_list = []\n",
    "for key, val in list(d.items()):\n",
    "    key_sorted_list.append((val,key))\n",
    "key_sorted_list.sort()\n",
    "print(key_sorted_list)"
   ]
  },
  {
   "cell_type": "code",
   "execution_count": 34,
   "id": "415045ca",
   "metadata": {
    "hideCode": false,
    "hidePrompt": false
   },
   "outputs": [
    {
     "name": "stdout",
     "output_type": "stream",
     "text": [
      "2 sun\n",
      "2 moon\n",
      "2 grief\n",
      "2 breaks\n",
      "1 yonder\n",
      "1 with\n",
      "1 window\n",
      "1 who\n",
      "1 what\n",
      "1 through\n"
     ]
    }
   ],
   "source": [
    "import string\n",
    "fhand = open('romeo.txt')\n",
    "counts = dict()\n",
    "for line in fhand:\n",
    "    line = line.translate(str.maketrans('', '', string.punctuation))\n",
    "    line = line.lower()\n",
    "    words = line.split()\n",
    "    for word in words:\n",
    "        if word not in counts:\n",
    "            counts[word] = 1\n",
    "    else:\n",
    "        counts[word] += 1\n",
    "        \n",
    "# Sort the dictionary by value\n",
    "lst = list()\n",
    "for key, val in list(counts.items()):\n",
    "    lst.append((val, key))\n",
    "lst.sort(reverse=True)\n",
    "for key, val in lst[:10]:\n",
    "    print(key, val)\n"
   ]
  },
  {
   "cell_type": "markdown",
   "id": "88bba875",
   "metadata": {
    "hideCode": false,
    "hidePrompt": false
   },
   "source": [
    "## Exercises"
   ]
  },
  {
   "cell_type": "markdown",
   "id": "d0a521c2",
   "metadata": {
    "hideCode": false,
    "hidePrompt": false
   },
   "source": [
    "### Exercise 1: \n",
    "\n",
    "##### Revise a previous program as follows: Read and parse the “From” lines and pull out the addresses from the line. Count the number of messages from each person using a dictionary. After all the data has been read, print the person with the most commits by creating a list of (count, email) tuples from the dictionary. Then sort the list in reverse order and print out the person who has the most commits"
   ]
  },
  {
   "cell_type": "markdown",
   "id": "5238b7f0",
   "metadata": {
    "hideCode": false,
    "hidePrompt": false
   },
   "source": [
    "Sample Line:\n",
    "- From stephen.marquard@uct.ac.za Sat Jan 5 09:14:16 2008\n",
    "- Enter a file name: mbox-short.txt\n",
    "- cwen@iupui.edu 5\n",
    "- Enter a file name: mbox.txt\n",
    "- zqian@umich.edu 195\n"
   ]
  },
  {
   "cell_type": "code",
   "execution_count": 9,
   "id": "e75d1efc",
   "metadata": {
    "hideCode": false,
    "hidePrompt": false
   },
   "outputs": [
    {
     "name": "stdout",
     "output_type": "stream",
     "text": [
      "195 zqian@umich.edu\n"
     ]
    }
   ],
   "source": [
    "mbox = open('mbox.txt')\n",
    "dictionary = dict()\n",
    "for line in mbox:\n",
    "    words = line.split()\n",
    "    if len(words) <3 or words[0] != 'From': continue\n",
    "    email = words[1]\n",
    "    dictionary[email] = dictionary.get(email, 0) + 1\n",
    "\n",
    "lst = list()\n",
    "    \n",
    "for key,val in list(dictionary.items()):\n",
    "    lst.append((val,key))\n",
    "lst.sort(reverse=True)\n",
    "for key,val in lst[:1]:\n",
    "    print(key,val)\n",
    "    \n",
    "mbox.close()"
   ]
  },
  {
   "cell_type": "code",
   "execution_count": 8,
   "id": "bd7f0308",
   "metadata": {
    "hideCode": false,
    "hidePrompt": false
   },
   "outputs": [
    {
     "name": "stdout",
     "output_type": "stream",
     "text": [
      "5 cwen@iupui.edu\n"
     ]
    }
   ],
   "source": [
    "mbox = open('mbox-short.txt')\n",
    "dictionary = dict()\n",
    "for line in mbox:\n",
    "    words = line.split()\n",
    "    if len(words) <3 or words[0] != 'From': continue\n",
    "    email = words[1]\n",
    "    dictionary[email] = dictionary.get(email, 0) + 1\n",
    "\n",
    "lst = list()\n",
    "    \n",
    "for key,val in list(dictionary.items()):\n",
    "    lst.append((val,key))\n",
    "lst.sort(reverse=True)\n",
    "for key,val in lst[:1]:\n",
    "    print(key,val)\n",
    "    \n",
    "mbox.close()"
   ]
  },
  {
   "cell_type": "markdown",
   "id": "69b0b7d8",
   "metadata": {
    "hideCode": false,
    "hidePrompt": false
   },
   "source": [
    "### Exercise 2: ##### \n",
    "This program counts the distribution of the hour of the day for each of the messages. You can pull the hour from the “From” line by finding the time string and then splitting that string into parts using the colon character. Once you have accumulated the counts for each hour, print out the counts, one per line, sorted by hour as shown below."
   ]
  },
  {
   "cell_type": "markdown",
   "id": "86434839",
   "metadata": {
    "hideCode": false,
    "hidePrompt": false
   },
   "source": [
    "- 04 3\n",
    "- 06 1\n",
    "- 07 1\n",
    "- 09 2\n",
    "- ...\n"
   ]
  },
  {
   "cell_type": "code",
   "execution_count": 57,
   "id": "4812dc64",
   "metadata": {
    "hideCode": false,
    "hidePrompt": false
   },
   "outputs": [
    {
     "name": "stdout",
     "output_type": "stream",
     "text": [
      "04 : 3\n",
      "06 : 1\n",
      "07 : 1\n",
      "09 : 2\n",
      "10 : 3\n",
      "11 : 6\n",
      "14 : 1\n",
      "15 : 2\n",
      "16 : 4\n",
      "17 : 2\n",
      "18 : 1\n",
      "19 : 1\n"
     ]
    }
   ],
   "source": [
    "fhand = open('mbox-short.txt')\n",
    "hour_dict = dict()\n",
    "for line in fhand:\n",
    "    words = line.split()\n",
    "    if len(words)>5 and words[0] == 'From':\n",
    "        hour = words[5].split(':')[0]\n",
    "        hour_dict[hour] = hour_dict.get(hour, 0) +1\n",
    "\n",
    "hour_list = list()\n",
    "for key,val in hour_dict.items():\n",
    "    hour_list.append((key,val))\n",
    "\n",
    "hour_list.sort()    \n",
    "\n",
    "for key,val in hour_list:\n",
    "    print(key,':',val)\n",
    "mbox.close()"
   ]
  },
  {
   "cell_type": "code",
   "execution_count": 53,
   "id": "835146ad",
   "metadata": {},
   "outputs": [
    {
     "data": {
      "text/plain": [
       "{'09': 2,\n",
       " '18': 1,\n",
       " '16': 4,\n",
       " '15': 2,\n",
       " '14': 1,\n",
       " '11': 6,\n",
       " '10': 3,\n",
       " '07': 1,\n",
       " '06': 1,\n",
       " '04': 3,\n",
       " '19': 1,\n",
       " '17': 2}"
      ]
     },
     "execution_count": 53,
     "metadata": {},
     "output_type": "execute_result"
    }
   ],
   "source": [
    "hour_dict"
   ]
  },
  {
   "cell_type": "code",
   "execution_count": 30,
   "id": "14896d68",
   "metadata": {},
   "outputs": [
    {
     "data": {
      "text/plain": [
       "['From', 'stephen.marquard@uct.ac.za', 'Sat', 'Jan', '5', '09:14:16', '2008']"
      ]
     },
     "execution_count": 30,
     "metadata": {},
     "output_type": "execute_result"
    }
   ],
   "source": [
    "words"
   ]
  },
  {
   "cell_type": "markdown",
   "id": "ffafa5ab",
   "metadata": {
    "hideCode": false,
    "hidePrompt": false
   },
   "source": [
    "### Exercise 3: \n",
    "##### Write a program that reads a file and prints the letters in decreasing order of frequency. Your program should convert all the input to lower case and only count the letters a-z. Your program should not count spaces, digits, punctuation, or anything other than the letters a-z. Find text samples from several different languages and see how letter frequency varies between languages. Compare your results with the tables at https://wikipedia.org/wiki/Letter_frequencies."
   ]
  },
  {
   "cell_type": "code",
   "execution_count": 22,
   "id": "f72fab31",
   "metadata": {
    "hideCode": false,
    "hidePrompt": false
   },
   "outputs": [
    {
     "name": "stdout",
     "output_type": "stream",
     "text": [
      "e : 5436\n",
      "a : 5223\n",
      "i : 4494\n",
      "o : 4174\n",
      "r : 4064\n",
      "t : 4050\n",
      "s : 3738\n",
      "u : 3123\n",
      "c : 3088\n",
      "n : 2575\n",
      "p : 2497\n",
      "m : 2436\n",
      "d : 2004\n",
      "l : 1832\n",
      "h : 1392\n",
      "f : 1257\n",
      "k : 1167\n",
      "b : 1134\n",
      "g : 1027\n",
      "v : 997\n",
      "j : 959\n",
      "y : 643\n",
      "w : 586\n",
      "x : 482\n",
      "z : 78\n",
      "q : 57\n"
     ]
    }
   ],
   "source": [
    "fhand = open('mbox-short.txt')\n",
    "letter_counter = dict()\n",
    "\n",
    "for line in fhand:\n",
    "    #all lowercase now\n",
    "    line = line.lower()\n",
    "    \n",
    "    #look at letters not words\n",
    "    for letter in line:\n",
    "        #if it ain't a-z ignore\n",
    "        if letter.isalpha() == False:\n",
    "            pass\n",
    "        else:\n",
    "            #add +1 to that letter val\n",
    "            letter_counter[letter] = letter_counter.get(letter, 0) + 1\n",
    "            \n",
    "sort_list = list()\n",
    "for key,val in letter_counter.items():\n",
    "    sort_list.append((val,key))\n",
    "\n",
    "sort_list.sort(reverse=True)\n",
    "\n",
    "for key,val in sort_list:\n",
    "    print(val,':',key)\n",
    "\n",
    "fhand.close()"
   ]
  }
 ],
 "metadata": {
  "hide_code_all_hidden": false,
  "hide_input": false,
  "kernelspec": {
   "display_name": "Python 3 (ipykernel)",
   "language": "python",
   "name": "python3"
  },
  "language_info": {
   "codemirror_mode": {
    "name": "ipython",
    "version": 3
   },
   "file_extension": ".py",
   "mimetype": "text/x-python",
   "name": "python",
   "nbconvert_exporter": "python",
   "pygments_lexer": "ipython3",
   "version": "3.9.12"
  }
 },
 "nbformat": 4,
 "nbformat_minor": 5
}
