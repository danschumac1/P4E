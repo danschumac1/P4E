{
 "cells": [
  {
   "cell_type": "markdown",
   "id": "df815269",
   "metadata": {},
   "source": [
    "## Exercise 1:\n",
    "#### Write a while loop that starts at the last character in the string and works its way backwards to the first character in the string, printing each letter on a separate line, except backwards."
   ]
  },
  {
   "cell_type": "code",
   "execution_count": 5,
   "id": "e5b51598",
   "metadata": {},
   "outputs": [
    {
     "name": "stdout",
     "output_type": "stream",
     "text": [
      "e\n",
      "g\n",
      "i\n",
      "a\n",
      "P\n"
     ]
    }
   ],
   "source": [
    "word = 'Paige'\n",
    "index = -1\n",
    "while index >= -len(word):\n",
    "    letter = word[index]\n",
    "    print(letter)\n",
    "    index -=1"
   ]
  },
  {
   "cell_type": "markdown",
   "id": "3b40f7d5",
   "metadata": {},
   "source": [
    "## Exercise 2: \n",
    "#### Given that word is a string, what does word[:] mean?"
   ]
  },
  {
   "cell_type": "code",
   "execution_count": 7,
   "id": "4512dbe4",
   "metadata": {},
   "outputs": [
    {
     "data": {
      "text/plain": [
       "'Paige'"
      ]
     },
     "execution_count": 7,
     "metadata": {},
     "output_type": "execute_result"
    }
   ],
   "source": [
    "#return the whole string\n",
    "word[:]"
   ]
  },
  {
   "cell_type": "code",
   "execution_count": 9,
   "id": "72c62db3",
   "metadata": {},
   "outputs": [],
   "source": [
    "def count_x(word, x):\n",
    "    #set variable\n",
    "    x_count = 0\n",
    "    \n",
    "    for i in word:\n",
    "        if i == x:\n",
    "            x_count += 1\n",
    "    return(x_count)"
   ]
  },
  {
   "cell_type": "code",
   "execution_count": 10,
   "id": "9ea9711c",
   "metadata": {},
   "outputs": [
    {
     "data": {
      "text/plain": [
       "2"
      ]
     },
     "execution_count": 10,
     "metadata": {},
     "output_type": "execute_result"
    }
   ],
   "source": [
    "count_x('Dumbledore','e')"
   ]
  },
  {
   "cell_type": "markdown",
   "id": "6eae06b4",
   "metadata": {},
   "source": [
    "## Exercise 4: \n",
    "#### Write an invocation that counts the number of times the letter a occurs in “banana”"
   ]
  },
  {
   "cell_type": "code",
   "execution_count": 11,
   "id": "56f85f05",
   "metadata": {},
   "outputs": [
    {
     "data": {
      "text/plain": [
       "3"
      ]
     },
     "execution_count": 11,
     "metadata": {},
     "output_type": "execute_result"
    }
   ],
   "source": [
    "'banana'.count('a')"
   ]
  }
 ],
 "metadata": {
  "hide_input": false,
  "kernelspec": {
   "display_name": "Python 3 (ipykernel)",
   "language": "python",
   "name": "python3"
  },
  "language_info": {
   "codemirror_mode": {
    "name": "ipython",
    "version": 3
   },
   "file_extension": ".py",
   "mimetype": "text/x-python",
   "name": "python",
   "nbconvert_exporter": "python",
   "pygments_lexer": "ipython3",
   "version": "3.9.12"
  }
 },
 "nbformat": 4,
 "nbformat_minor": 5
}
