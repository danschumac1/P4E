{
 "cells": [
  {
   "cell_type": "markdown",
   "id": "75d6169e",
   "metadata": {},
   "source": [
    "## Exercise 2\n",
    "- Write a program to look for lines of the form:\n",
    "    - New Revision 39772\n",
    "- Extract the number forom each of the lines using a regular expression and findall() method.\n",
    "- Compute the average of the numbers and pring out the average as an integer"
   ]
  },
  {
   "cell_type": "code",
   "execution_count": 2,
   "id": "edf377af",
   "metadata": {},
   "outputs": [],
   "source": [
    "import re"
   ]
  },
  {
   "cell_type": "code",
   "execution_count": 27,
   "id": "89bad806",
   "metadata": {},
   "outputs": [
    {
     "name": "stdout",
     "output_type": "stream",
     "text": [
      "item 1: 39772\n",
      "item 2: 39771\n",
      "item 3: 39770\n",
      "item 4: 39769\n",
      "item 5: 39766\n",
      "item 6: 39765\n",
      "item 7: 39764\n",
      "item 8: 39763\n",
      "item 9: 39762\n",
      "item 10: 39761\n",
      "item 11: 39760\n",
      "item 12: 39759\n",
      "item 13: 39758\n",
      "item 14: 39757\n",
      "item 15: 39756\n",
      "item 16: 39755\n",
      "item 17: 39754\n",
      "item 18: 39753\n",
      "item 19: 39752\n",
      "item 20: 39751\n",
      "item 21: 39750\n",
      "item 22: 39749\n",
      "item 23: 39746\n",
      "item 24: 39745\n",
      "item 25: 39744\n",
      "item 26: 39743\n",
      "item 27: 39742\n",
      "item average: 39756\n"
     ]
    }
   ],
   "source": [
    "reg_exp = '^New Revision: ([0-9.]+)'\n",
    "new_revision_list = []\n",
    "\n",
    "file_handle =  open('mbox-short.txt')\n",
    "for line in file_handle:\n",
    "    line = line.rstrip()\n",
    "    x = re.findall(reg_exp, line)\n",
    "    if len(x) > 0: \n",
    "        new_revision_list.append(int(x[0]))\n",
    "file_handle.close()\n",
    "\n",
    "new_revision_list_average = int(sum(new_revision_list)/len(new_revision_list))\n",
    "\n",
    "count = 1\n",
    "for item in new_revision_list:\n",
    "    print(f'item {count}:', item)\n",
    "    count+=1\n",
    "print('item average:', new_revision_list_average)"
   ]
  }
 ],
 "metadata": {
  "hide_input": false,
  "kernelspec": {
   "display_name": "Python 3 (ipykernel)",
   "language": "python",
   "name": "python3"
  },
  "language_info": {
   "codemirror_mode": {
    "name": "ipython",
    "version": 3
   },
   "file_extension": ".py",
   "mimetype": "text/x-python",
   "name": "python",
   "nbconvert_exporter": "python",
   "pygments_lexer": "ipython3",
   "version": "3.9.12"
  }
 },
 "nbformat": 4,
 "nbformat_minor": 5
}
