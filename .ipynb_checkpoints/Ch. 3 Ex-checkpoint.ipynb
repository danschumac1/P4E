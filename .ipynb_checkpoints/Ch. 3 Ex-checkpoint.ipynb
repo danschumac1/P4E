{
 "cells": [
  {
   "cell_type": "markdown",
   "id": "56f2659f",
   "metadata": {},
   "source": [
    "## Exercise 1: \n",
    "#### Rewrite your pay computation to give the employee 1.5 times the hourly rate for hours worked above 40 hours.\n",
    "- Enter Hours: 45\n",
    "- Enter Rate: 10\n",
    "- Pay: 475.0\n"
   ]
  },
  {
   "cell_type": "code",
   "execution_count": 10,
   "id": "9c7b9dfd",
   "metadata": {},
   "outputs": [
    {
     "name": "stdout",
     "output_type": "stream",
     "text": [
      "Enter hours: 85\n",
      "Enter rate: 10\n",
      "Pay 1075.00\n"
     ]
    }
   ],
   "source": [
    "hours = float(input('Enter hours: '))\n",
    "rate = float(input('Enter rate: '))\n",
    "\n",
    "#calculate number of overtime hours\n",
    "if hours > 40:\n",
    "    overtime_hours = hours - 40\n",
    "    hours = 40 #these are regular rate hours (maxed at 40)\n",
    "else:\n",
    "    overtime_hours = 0\n",
    "\n",
    "#calculate regular pay\n",
    "pay = (hours*rate) + (overtime_hours*rate*1.5)\n",
    "print('Pay {:.2f}'.format(pay))"
   ]
  },
  {
   "cell_type": "markdown",
   "id": "cd5a7317",
   "metadata": {},
   "source": [
    "## Exercise 2: \n",
    "#### Rewrite your pay program using try and except so that your program handles non-numeric input gracefully by printing a message and exiting the program. The following shows two executions of the program:\n",
    "- Enter Hours: 20\n",
    "- Enter Rate: nine\n",
    "- Error, please enter numeric input\n",
    "- Enter Hours: forty\n",
    "- Error, please enter numeric input\n"
   ]
  },
  {
   "cell_type": "code",
   "execution_count": 6,
   "id": "caf625f4",
   "metadata": {},
   "outputs": [
    {
     "name": "stdout",
     "output_type": "stream",
     "text": [
      "Enter hours: 45\n",
      "Enter rate: 6\n",
      "Pay 285.00\n"
     ]
    }
   ],
   "source": [
    "try: \n",
    "    hours = float(input('Enter hours: '))\n",
    "    rate = float(input('Enter rate: '))\n",
    "except:\n",
    "    print('ERROR: Please enter numeric input! ')\n",
    "else:\n",
    "\n",
    "    #calculate number of overtime hours\n",
    "    if hours > 40:\n",
    "        overtime_hours = hours - 40\n",
    "        hours = 40 #these are regular rate hours (maxed at 40)\n",
    "    else:\n",
    "        overtime_hours = 0\n",
    "\n",
    "    #calculate regular pay\n",
    "    pay = (hours*rate) + (overtime_hours*rate*1.5)\n",
    "    print('Pay {:.2f}'.format(pay))"
   ]
  },
  {
   "cell_type": "markdown",
   "id": "578a6a38",
   "metadata": {},
   "source": [
    "## Exercise 3: \n",
    "#### Write a program to prompt for a score between 0.0 and1.0. If the score is out of range, print an error message. If the score is between 0.0 and 1.0, print a grade using the following table:\n",
    "\n",
    "| Score | Grade |\n",
    "|-------|-------|\n",
    "|>= 0.9| A|\n",
    "|>= 0.8| B|\n",
    "|>= 0.7| C|\n",
    "|>= 0.6| D|\n",
    "|< 0.6 |F|"
   ]
  },
  {
   "cell_type": "code",
   "execution_count": 1,
   "id": "25bc9796",
   "metadata": {},
   "outputs": [],
   "source": [
    "def grade(score):\n",
    "    try:\n",
    "        \n",
    "        if score < 0.0 or score > 1.0:\n",
    "            print('invalid entry: input must be a number betwee 0.0 and 1.0')\n",
    "\n",
    "        else:\n",
    "            if score = 1.0:\n",
    "                return 'A'\n",
    "            elif score >= 0.8:\n",
    "                return 'B'\n",
    "            elif score >= 0.7:\n",
    "                return 'C'\n",
    "            elif score >= 0.6:\n",
    "                return 'D'\n",
    "            elif score < 0.6:\n",
    "                return 'F'\n",
    "        \n",
    "    except:\n",
    "        print('invalid entry: input must be a number betwee 0.0 and 1.0')"
   ]
  },
  {
   "cell_type": "code",
   "execution_count": 2,
   "id": "b6f37b7c",
   "metadata": {},
   "outputs": [
    {
     "name": "stdout",
     "output_type": "stream",
     "text": [
      "invalid entry: input must be a number betwee 0.0 and 1.0\n"
     ]
    }
   ],
   "source": [
    "grade('asdf')"
   ]
  },
  {
   "cell_type": "code",
   "execution_count": 3,
   "id": "afec79a1",
   "metadata": {},
   "outputs": [
    {
     "name": "stdout",
     "output_type": "stream",
     "text": [
      "invalid entry: input must be a number betwee 0.0 and 1.0\n"
     ]
    }
   ],
   "source": [
    "grade(42)"
   ]
  },
  {
   "cell_type": "code",
   "execution_count": 4,
   "id": "9125ddbd",
   "metadata": {},
   "outputs": [
    {
     "name": "stdout",
     "output_type": "stream",
     "text": [
      "invalid entry: input must be a number betwee 0.0 and 1.0\n"
     ]
    }
   ],
   "source": [
    "grade(-123)"
   ]
  },
  {
   "cell_type": "code",
   "execution_count": 5,
   "id": "5fb82d15",
   "metadata": {
    "scrolled": true
   },
   "outputs": [
    {
     "data": {
      "text/plain": [
       "'A'"
      ]
     },
     "execution_count": 5,
     "metadata": {},
     "output_type": "execute_result"
    }
   ],
   "source": [
    "grade(.4)"
   ]
  },
  {
   "cell_type": "code",
   "execution_count": null,
   "id": "abdf0ed9",
   "metadata": {},
   "outputs": [],
   "source": [
    "grade(.62)"
   ]
  },
  {
   "cell_type": "code",
   "execution_count": null,
   "id": "272715df",
   "metadata": {},
   "outputs": [],
   "source": [
    "grade(.78)"
   ]
  },
  {
   "cell_type": "code",
   "execution_count": null,
   "id": "3b667505",
   "metadata": {},
   "outputs": [],
   "source": [
    "grade(.87)"
   ]
  },
  {
   "cell_type": "code",
   "execution_count": null,
   "id": "b47d5b08",
   "metadata": {},
   "outputs": [],
   "source": [
    "grade(.97)"
   ]
  }
 ],
 "metadata": {
  "hide_input": false,
  "kernelspec": {
   "display_name": "Python 3 (ipykernel)",
   "language": "python",
   "name": "python3"
  },
  "language_info": {
   "codemirror_mode": {
    "name": "ipython",
    "version": 3
   },
   "file_extension": ".py",
   "mimetype": "text/x-python",
   "name": "python",
   "nbconvert_exporter": "python",
   "pygments_lexer": "ipython3",
   "version": "3.9.12"
  }
 },
 "nbformat": 4,
 "nbformat_minor": 5
}
