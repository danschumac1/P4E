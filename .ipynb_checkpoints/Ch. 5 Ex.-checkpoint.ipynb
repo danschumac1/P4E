{
 "cells": [
  {
   "cell_type": "markdown",
   "id": "03531e33",
   "metadata": {},
   "source": [
    "## Exercise 1: \n",
    "#### Write a program which repeatedly reads numbers until the user enters “done”. Once “done” is entered, print out the total, count, and average of the numbers. If the user enters anything other than a number, detect their mistake using try and except and print an error message and skip to the next number.\n",
    "- Enter a number: 4\n",
    "- Enter a number: 5\n",
    "- Enter a number: bad data\n",
    "- Invalid input\n",
    "- Enter a number: 7\n",
    "- Enter a number: done\n",
    "    - 16 3 5.333333333333333"
   ]
  },
  {
   "cell_type": "code",
   "execution_count": 28,
   "id": "df6562c1",
   "metadata": {},
   "outputs": [],
   "source": [
    "calculations_list = []"
   ]
  },
  {
   "cell_type": "code",
   "execution_count": 36,
   "id": "a127e59e",
   "metadata": {},
   "outputs": [
    {
     "name": "stdout",
     "output_type": "stream",
     "text": [
      "Please enter numbers one at a time, when done, type \"done\"\n",
      "Enter a number: 56\n",
      "Enter a number: 20000\n",
      "Enter a number: .65\n",
      "Enter a number: done\n",
      "\n",
      "total: 20056.65\n",
      "count: 3.00\n",
      "mean: 6685.55\n"
     ]
    }
   ],
   "source": [
    "#set vars we will be using\n",
    "answer = None\n",
    "calculations_list = []\n",
    "\n",
    "#directions for user\n",
    "print('Please enter numbers one at a time, when done, type \"done\"')\n",
    "\n",
    "\n",
    "while answer != 'done':\n",
    "    answer = input('Enter a number: ')\n",
    "    if answer == 'done':\n",
    "        break\n",
    "    try:\n",
    "        answer = float(answer)\n",
    "    except:\n",
    "        print('please enter numeric input')\n",
    "        continue #is this necesary? \n",
    "    else:\n",
    "        calculations_list.append(answer)\n",
    "        \n",
    "total = sum(calculations_list)\n",
    "count = len(calculations_list)\n",
    "mean = total/count\n",
    "\n",
    "print('\\ntotal: {:.2f}\\ncount: {:.2f}\\nmean: {:.2f}'.format(total,count,mean))"
   ]
  },
  {
   "cell_type": "markdown",
   "id": "1de08b87",
   "metadata": {},
   "source": [
    "## Exercise 2: \n",
    "### Write another program that prompts for a list of numbers as above and at the end prints out both the maximum and minimum of the numbers instead of the average"
   ]
  },
  {
   "cell_type": "code",
   "execution_count": 41,
   "id": "6dfda258",
   "metadata": {},
   "outputs": [
    {
     "name": "stdout",
     "output_type": "stream",
     "text": [
      "Please enter numbers one at a time, when done, type \"done\"\n",
      "Enter a number: 4\n",
      "Enter a number: 500000\n",
      "Enter a number: .6555\n",
      "Enter a number: done\n",
      "\n",
      "Minimum: 0.6555\n",
      "maximum: 500000.0\n"
     ]
    }
   ],
   "source": [
    "answer = None\n",
    "calculations_list = []\n",
    "\n",
    "#directions for user\n",
    "print('Please enter numbers one at a time, when done, type \"done\"')\n",
    "\n",
    "\n",
    "while answer != 'done':\n",
    "    answer = input('Enter a number: ')\n",
    "    if answer == 'done':\n",
    "        break\n",
    "    try:\n",
    "        answer = float(answer)\n",
    "    except:\n",
    "        print('please enter numeric input')\n",
    "        continue #is this necesary? \n",
    "    else:\n",
    "        calculations_list.append(answer)\n",
    "        \n",
    "minimum = min(calculations_list)\n",
    "maximum = max(calculations_list)\n",
    "\n",
    "print('\\nMinimum: {}\\nMaximum: {}'.format(minimum,maximum))"
   ]
  }
 ],
 "metadata": {
  "hide_input": false,
  "kernelspec": {
   "display_name": "Python 3 (ipykernel)",
   "language": "python",
   "name": "python3"
  },
  "language_info": {
   "codemirror_mode": {
    "name": "ipython",
    "version": 3
   },
   "file_extension": ".py",
   "mimetype": "text/x-python",
   "name": "python",
   "nbconvert_exporter": "python",
   "pygments_lexer": "ipython3",
   "version": "3.9.12"
  }
 },
 "nbformat": 4,
 "nbformat_minor": 5
}
