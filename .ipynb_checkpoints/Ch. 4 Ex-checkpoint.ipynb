{
 "cells": [
  {
   "cell_type": "markdown",
   "id": "29e571eb",
   "metadata": {},
   "source": [
    "## Exercise 6\n",
    "#### Rewrite pay computation with time-and-a half for over-time and create a function which takes two parammeters"
   ]
  },
  {
   "cell_type": "code",
   "execution_count": 8,
   "id": "ed360482",
   "metadata": {},
   "outputs": [],
   "source": [
    "def pay_check(hours, rate):\n",
    "    \n",
    "    try: \n",
    "        hours = float(hours)\n",
    "        rate = float(rate)\n",
    "    except:\n",
    "        print('ERROR: Please enter numeric input! ')\n",
    "    else:\n",
    "\n",
    "        #calculate number of overtime hours\n",
    "        if hours > 40:\n",
    "            overtime_hours = hours - 40\n",
    "            hours = 40 #these are regular rate hours (maxed at 40)\n",
    "        else:\n",
    "            overtime_hours = 0\n",
    "\n",
    "        #calculate regular pay\n",
    "        pay = (hours*rate) + (overtime_hours*rate*1.5)\n",
    "        print('Pay {:.2f}'.format(pay))"
   ]
  },
  {
   "cell_type": "code",
   "execution_count": 9,
   "id": "702663b1",
   "metadata": {},
   "outputs": [
    {
     "name": "stdout",
     "output_type": "stream",
     "text": [
      "ERROR: Please enter numeric input! \n"
     ]
    }
   ],
   "source": [
    "pay_check('a',4)"
   ]
  },
  {
   "cell_type": "code",
   "execution_count": 10,
   "id": "d6bc670f",
   "metadata": {},
   "outputs": [
    {
     "name": "stdout",
     "output_type": "stream",
     "text": [
      "ERROR: Please enter numeric input! \n"
     ]
    }
   ],
   "source": [
    "pay_check(4,'a')"
   ]
  },
  {
   "cell_type": "code",
   "execution_count": 11,
   "id": "8dfdb8cf",
   "metadata": {
    "scrolled": true
   },
   "outputs": [
    {
     "name": "stdout",
     "output_type": "stream",
     "text": [
      "Pay 475.00\n"
     ]
    }
   ],
   "source": [
    "pay_check(45,10)"
   ]
  }
 ],
 "metadata": {
  "hide_input": false,
  "kernelspec": {
   "display_name": "Python 3 (ipykernel)",
   "language": "python",
   "name": "python3"
  },
  "language_info": {
   "codemirror_mode": {
    "name": "ipython",
    "version": 3
   },
   "file_extension": ".py",
   "mimetype": "text/x-python",
   "name": "python",
   "nbconvert_exporter": "python",
   "pygments_lexer": "ipython3",
   "version": "3.9.12"
  }
 },
 "nbformat": 4,
 "nbformat_minor": 5
}
