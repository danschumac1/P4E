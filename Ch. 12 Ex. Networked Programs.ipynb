{
 "cells": [
  {
   "cell_type": "markdown",
   "id": "48787606",
   "metadata": {},
   "source": [
    "# Ch. 12 Ex. Networked Programs"
   ]
  },
  {
   "cell_type": "markdown",
   "id": "1c7b043e",
   "metadata": {},
   "source": [
    "## Notes From Chapter"
   ]
  },
  {
   "cell_type": "markdown",
   "id": "0b90f2b7",
   "metadata": {},
   "source": [
    "### Hypertext Transfer Protocol"
   ]
  },
  {
   "cell_type": "markdown",
   "id": "e1ad7aab",
   "metadata": {},
   "source": [
    "### World's simplest web browser"
   ]
  },
  {
   "cell_type": "code",
   "execution_count": 6,
   "id": "4f5e65e2",
   "metadata": {},
   "outputs": [
    {
     "name": "stdout",
     "output_type": "stream",
     "text": [
      "HTTP/1.1 200 OK\r\n",
      "Date: Sat, 30 Sep 2023 22:16:40 GMT\r\n",
      "Server: Apache/2.4.18 (Ubuntu)\r\n",
      "Last-Modified: Sat, 13 May 2017 11:22:22 GMT\r\n",
      "ETag: \"a7-54f6609245537\"\r\n",
      "Accept-Ranges: bytes\r\n",
      "Content-Length: 167\r\n",
      "Cache-Control: max-age=0, no-cache, no-store, must-revalidate\r\n",
      "Pragma: no-cache\r\n",
      "Expires: Wed, 11 Jan 1984 05:00:00 GMT\r\n",
      "Connection: close\r\n",
      "Content-Type: text/plain\r\n",
      "\r\n",
      "But soft what light through yonder window breaks\n",
      "It is the east and Juliet is the sun\n",
      "Arise fair sun and kill the envious moon\n",
      "Who is already sick and pale with grief\n"
     ]
    }
   ],
   "source": [
    "import socket\n",
    "\n",
    "mysock = socket.socket(socket.AF_INET, socket.SOCK_STREAM)\n",
    "\n",
    "#makes a connection to port 80 on server www.pr4e.com\n",
    "mysock.connect(('data.pr4e.org',80))\n",
    "\n",
    "#send the GET command followed by blank line\n",
    "# /r/n/r/n signifies nothing between two EOL sequences.\n",
    "cmd = 'GET http://data.pr4e.org/romeo.txt HTTP/1.0\\r\\n\\r\\n'.encode()\n",
    "mysock.send(cmd)\n",
    "\n",
    "while True:\n",
    "    data = mysock.recv(512)\n",
    "    if len(data) < 1:\n",
    "        break\n",
    "    print(data.decode(), end='')\n",
    "    \n",
    "mysock.close()"
   ]
  },
  {
   "cell_type": "markdown",
   "id": "1df3a2d5",
   "metadata": {},
   "source": [
    "### Getting images over HTTP"
   ]
  },
  {
   "cell_type": "code",
   "execution_count": 9,
   "id": "93e323f4",
   "metadata": {},
   "outputs": [],
   "source": [
    "import socket\n",
    "import time"
   ]
  },
  {
   "cell_type": "code",
   "execution_count": 12,
   "id": "fd2f5d25",
   "metadata": {},
   "outputs": [
    {
     "name": "stdout",
     "output_type": "stream",
     "text": [
      "5120 5120\n",
      "5120 10240\n",
      "5120 15360\n",
      "2160 17520\n",
      "5120 22640\n",
      "720 23360\n",
      "5120 28480\n",
      "720 29200\n",
      "5120 34320\n",
      "720 35040\n",
      "5120 40160\n",
      "720 40880\n",
      "5120 46000\n",
      "720 46720\n",
      "5120 51840\n",
      "720 52560\n",
      "5120 57680\n",
      "720 58400\n",
      "5120 63520\n",
      "720 64240\n",
      "5120 69360\n",
      "720 70080\n",
      "5120 75200\n",
      "720 75920\n",
      "5120 81040\n",
      "720 81760\n",
      "5120 86880\n",
      "720 87600\n",
      "5120 92720\n",
      "720 93440\n",
      "5120 98560\n",
      "720 99280\n",
      "5120 104400\n",
      "720 105120\n",
      "5120 110240\n",
      "720 110960\n",
      "5120 116080\n",
      "5120 121200\n",
      "1440 122640\n",
      "5120 127760\n",
      "2180 129940\n",
      "5120 135060\n",
      "3640 138700\n",
      "5120 143820\n",
      "720 144540\n",
      "5120 149660\n",
      "5120 154780\n",
      "1440 156220\n",
      "5120 161340\n",
      "720 162060\n",
      "5120 167180\n",
      "5100 172280\n",
      "5120 177400\n",
      "5120 182520\n",
      "5120 187640\n",
      "2160 189800\n",
      "5120 194920\n",
      "5120 200040\n",
      "5120 205160\n",
      "3620 208780\n",
      "5120 213900\n",
      "720 214620\n",
      "5120 219740\n",
      "5120 224860\n",
      "1440 226300\n",
      "4308 230608\n",
      "Header length 394\n",
      "HTTP/1.1 200 OK\n",
      "Date: Sat, 30 Sep 2023 22:27:01 GMT\n",
      "Server: Apache/2.4.18 (Ubuntu)\n",
      "Last-Modified: Mon, 15 May 2017 12:27:40 GMT\n",
      "ETag: \"38342-54f8f2e5b6277\"\n",
      "Accept-Ranges: bytes\n",
      "Content-Length: 230210\n",
      "Vary: Accept-Encoding\n",
      "Cache-Control: max-age=0, no-cache, no-store, must-revalidate\n",
      "Pragma: no-cache\n",
      "Expires: Wed, 11 Jan 1984 05:00:00 GMT\n",
      "Connection: close\n",
      "Content-Type: image/jpeg\n"
     ]
    }
   ],
   "source": [
    "HOST = 'data.pr4e.org'\n",
    "PORT = 80\n",
    "mysock = socket.socket(socket.AF_INET, socket.SOCK_STREAM)\n",
    "mysock.connect((HOST, PORT))\n",
    "mysock.sendall(b'GET http://data.pr4e.org/cover3.jpg HTTP/1.0\\r\\n\\r\\n')\n",
    "count = 0\n",
    "picture = b\"\"\n",
    "\n",
    "while True:\n",
    "    data = mysock.recv(5120)\n",
    "    if len(data) < 1: break\n",
    "    #time.sleep(0.25)\n",
    "    count = count + len(data)\n",
    "    print(len(data), count)\n",
    "    picture = picture + data\n",
    "\n",
    "mysock.close()\n",
    "\n",
    "# Look for the end of the header (2 CRLF)\n",
    "pos = picture.find(b\"\\r\\n\\r\\n\")\n",
    "print('Header length', pos)\n",
    "print(picture[:pos].decode())\n",
    "\n",
    "# Skip past the header and save the picture data\n",
    "picture = picture[pos+4:]\n",
    "fhand = open(\"stuff.jpg\", \"wb\")\n",
    "fhand.write(picture)\n",
    "fhand.close()"
   ]
  },
  {
   "cell_type": "markdown",
   "id": "18eebd6d",
   "metadata": {},
   "source": [
    "## Simplifying with urllib"
   ]
  },
  {
   "cell_type": "code",
   "execution_count": 13,
   "id": "413389c1",
   "metadata": {},
   "outputs": [],
   "source": [
    "import urllib.request"
   ]
  },
  {
   "cell_type": "code",
   "execution_count": 14,
   "id": "cc78dcd5",
   "metadata": {},
   "outputs": [
    {
     "name": "stdout",
     "output_type": "stream",
     "text": [
      "But soft what light through yonder window breaks\n",
      "It is the east and Juliet is the sun\n",
      "Arise fair sun and kill the envious moon\n",
      "Who is already sick and pale with grief\n"
     ]
    }
   ],
   "source": [
    "fhand = urllib.request.urlopen('http://data.pr4e.org/romeo.txt')\n",
    "\n",
    "for line in fhand:\n",
    "    print(line.decode().strip())"
   ]
  },
  {
   "cell_type": "code",
   "execution_count": 18,
   "id": "07ad2807",
   "metadata": {},
   "outputs": [
    {
     "name": "stdout",
     "output_type": "stream",
     "text": [
      "{'but': 1, 'soft': 1, 'what': 1, 'light': 1, 'through': 1, 'yonder': 1, 'window': 1, 'breaks': 1, 'it': 1, 'is': 3, 'the': 3, 'east': 1, 'and': 3, 'juliet': 1, 'sun': 2, 'arise': 1, 'fair': 1, 'kill': 1, 'envious': 1, 'moon': 1, 'who': 1, 'already': 1, 'sick': 1, 'pale': 1, 'with': 1, 'grief': 1}\n"
     ]
    }
   ],
   "source": [
    "#word counting using a url 'file'\n",
    "\n",
    "fhand = urllib.request.urlopen('http://data.pr4e.org/romeo.txt')\n",
    "\n",
    "\n",
    "counts = dict()\n",
    "for line in fhand:\n",
    "    words = line.decode().lower().split()\n",
    "    for word in words:\n",
    "        counts[word] = counts.get(word, 0) + 1\n",
    "    \n",
    "print(counts)"
   ]
  },
  {
   "cell_type": "markdown",
   "id": "39995155",
   "metadata": {},
   "source": [
    "## Reading binary files using urllib"
   ]
  },
  {
   "cell_type": "code",
   "execution_count": 20,
   "id": "30eb61c6",
   "metadata": {},
   "outputs": [],
   "source": [
    "#for simpler requests\n",
    "\n",
    "import urllib.request, urllib.parse, urllib.error\n",
    "\n",
    "img = urllib.request.urlopen('http://data.pr4e.org/cover3.jpg').read()\n",
    "fhand = open('cover3.jpg', 'wb')\n",
    "fhand.write(img)\n",
    "fhand.close()"
   ]
  },
  {
   "cell_type": "code",
   "execution_count": 19,
   "id": "c426183e",
   "metadata": {},
   "outputs": [
    {
     "name": "stdout",
     "output_type": "stream",
     "text": [
      "230210 characters copied.\n"
     ]
    }
   ],
   "source": [
    "# for larger requests we add a buffer\n",
    "\n",
    "import urllib.request, urllib.parse, urllib.error\n",
    "img = urllib.request.urlopen('http://data.pr4e.org/cover3.jpg')\n",
    "fhand = open('cover3.jpg', 'wb')\n",
    "size = 0\n",
    "\n",
    "while True:\n",
    "    info = img.read(100000)\n",
    "    if len(info) < 1: break\n",
    "    size = size + len(info)\n",
    "    fhand.write(info)\n",
    "    \n",
    "print(size, 'characters copied.')\n",
    "fhand.close()\n"
   ]
  },
  {
   "cell_type": "markdown",
   "id": "22226c9c",
   "metadata": {},
   "source": [
    "## Parsing HTML"
   ]
  },
  {
   "cell_type": "markdown",
   "id": "0bc4a597",
   "metadata": {},
   "source": [
    "### Using RE"
   ]
  },
  {
   "cell_type": "code",
   "execution_count": 21,
   "id": "17f970d5",
   "metadata": {},
   "outputs": [
    {
     "name": "stdout",
     "output_type": "stream",
     "text": [
      "Enter - https://docs.python.org\n",
      "https://docs.python.org/3/index.html\n",
      "https://www.python.org/\n",
      "https://docs.python.org/3.13/\n",
      "https://docs.python.org/3.12/\n",
      "https://docs.python.org/3.11/\n",
      "https://docs.python.org/3.10/\n",
      "https://docs.python.org/3.9/\n",
      "https://docs.python.org/3.8/\n",
      "https://docs.python.org/3.7/\n",
      "https://docs.python.org/3.6/\n",
      "https://docs.python.org/3.5/\n",
      "https://docs.python.org/2.7/\n",
      "https://www.python.org/doc/versions/\n",
      "https://www.python.org/dev/peps/\n",
      "https://wiki.python.org/moin/BeginnersGuide\n",
      "https://wiki.python.org/moin/PythonBooks\n",
      "https://www.python.org/doc/av/\n",
      "https://devguide.python.org/\n",
      "https://www.python.org/\n",
      "https://devguide.python.org/docquality/#helping-with-documentation\n",
      "https://docs.python.org/3.13/\n",
      "https://docs.python.org/3.12/\n",
      "https://docs.python.org/3.11/\n",
      "https://docs.python.org/3.10/\n",
      "https://docs.python.org/3.9/\n",
      "https://docs.python.org/3.8/\n",
      "https://docs.python.org/3.7/\n",
      "https://docs.python.org/3.6/\n",
      "https://docs.python.org/3.5/\n",
      "https://docs.python.org/2.7/\n",
      "https://www.python.org/doc/versions/\n",
      "https://www.python.org/dev/peps/\n",
      "https://wiki.python.org/moin/BeginnersGuide\n",
      "https://wiki.python.org/moin/PythonBooks\n",
      "https://www.python.org/doc/av/\n",
      "https://devguide.python.org/\n",
      "https://www.python.org/\n",
      "https://www.python.org/psf/donations/\n",
      "https://www.sphinx-doc.org/\n"
     ]
    }
   ],
   "source": [
    "# Search for link values within URL input\n",
    "import urllib.request, urllib.parse, urllib.error\n",
    "import re\n",
    "import ssl\n",
    "\n",
    "# Ignore SSL certificate errors\n",
    "ctx = ssl.create_default_context()\n",
    "ctx.check_hostname = False\n",
    "ctx.verify_mode = ssl.CERT_NONE\n",
    "\n",
    "url = input('Enter - ')\n",
    "html = urllib.request.urlopen(url, context=ctx).read()\n",
    "links = re.findall(b'href=\"(http[s]?://.*?)\"', html)\n",
    "for link in links:\n",
    "    print(link.decode())\n"
   ]
  },
  {
   "cell_type": "markdown",
   "id": "4966519f",
   "metadata": {},
   "source": [
    "### Using BeautifulSoup"
   ]
  },
  {
   "cell_type": "code",
   "execution_count": 22,
   "id": "098c162d",
   "metadata": {},
   "outputs": [],
   "source": [
    "import urllib.request, urllib.parse, urllib.error\n",
    "from bs4 import BeautifulSoup\n",
    "import ssl"
   ]
  },
  {
   "cell_type": "code",
   "execution_count": 26,
   "id": "37ec8379",
   "metadata": {},
   "outputs": [
    {
     "name": "stdout",
     "output_type": "stream",
     "text": [
      "Enter - https://docs.python.org\n",
      "https://www.python.org/\n",
      "download.html\n",
      "https://docs.python.org/3.13/\n",
      "https://docs.python.org/3.12/\n",
      "https://docs.python.org/3.11/\n",
      "https://docs.python.org/3.10/\n",
      "https://docs.python.org/3.9/\n",
      "https://docs.python.org/3.8/\n",
      "https://docs.python.org/3.7/\n",
      "https://docs.python.org/3.6/\n",
      "https://docs.python.org/3.5/\n",
      "https://docs.python.org/2.7/\n",
      "https://www.python.org/doc/versions/\n",
      "https://www.python.org/dev/peps/\n",
      "https://wiki.python.org/moin/BeginnersGuide\n",
      "https://wiki.python.org/moin/PythonBooks\n",
      "https://www.python.org/doc/av/\n",
      "https://devguide.python.org/\n",
      "genindex.html\n",
      "py-modindex.html\n",
      "https://www.python.org/\n",
      "#\n",
      "\n",
      "whatsnew/3.11.html\n",
      "whatsnew/index.html\n",
      "tutorial/index.html\n",
      "library/index.html\n",
      "reference/index.html\n",
      "using/index.html\n",
      "howto/index.html\n",
      "installing/index.html\n",
      "distributing/index.html\n",
      "extending/index.html\n",
      "c-api/index.html\n",
      "faq/index.html\n",
      "py-modindex.html\n",
      "genindex.html\n",
      "glossary.html\n",
      "search.html\n",
      "contents.html\n",
      "bugs.html\n",
      "https://devguide.python.org/docquality/#helping-with-documentation\n",
      "about.html\n",
      "license.html\n",
      "copyright.html\n",
      "download.html\n",
      "download.html\n",
      "https://docs.python.org/3.13/\n",
      "https://docs.python.org/3.12/\n",
      "https://docs.python.org/3.11/\n",
      "https://docs.python.org/3.10/\n",
      "https://docs.python.org/3.9/\n",
      "https://docs.python.org/3.8/\n",
      "https://docs.python.org/3.7/\n",
      "https://docs.python.org/3.6/\n",
      "https://docs.python.org/3.5/\n",
      "https://docs.python.org/2.7/\n",
      "https://www.python.org/doc/versions/\n",
      "https://www.python.org/dev/peps/\n",
      "https://wiki.python.org/moin/BeginnersGuide\n",
      "https://wiki.python.org/moin/PythonBooks\n",
      "https://www.python.org/doc/av/\n",
      "https://devguide.python.org/\n",
      "genindex.html\n",
      "py-modindex.html\n",
      "https://www.python.org/\n",
      "#\n",
      "\n",
      "copyright.html\n",
      "/license.html\n",
      "https://www.python.org/psf/donations/\n",
      "/bugs.html\n",
      "https://www.sphinx-doc.org/\n"
     ]
    }
   ],
   "source": [
    "# Ignore SSL certificate errors\n",
    "ctx = ssl.create_default_context()\n",
    "ctx.check_hostname = False\n",
    "ctx.verify_mode = ssl.CERT_NONE\n",
    "\n",
    "url = input('Enter - ')\n",
    "html = urllib.request.urlopen(url, context=ctx).read()\n",
    "soup = BeautifulSoup(html, 'html.parser')\n",
    "\n",
    "# Retrieve all of the anchor tags\n",
    "tags = soup('a')\n",
    "for tag in tags:\n",
    "    print(tag.get('href', None))"
   ]
  },
  {
   "cell_type": "markdown",
   "id": "56f8c778",
   "metadata": {},
   "source": [
    "## Exercise 1:  \n",
    "Change the socket program socket1.py to prompt the user for the URL so it can read any web page. You can use split('/') to break the URL into its component parts so you can extract the host name for the socket connect call. Add error checking using try and except to handle the condition where the user enters an improperly formatted or non-existent URL.\n"
   ]
  },
  {
   "cell_type": "code",
   "execution_count": 37,
   "id": "42f42c4f",
   "metadata": {},
   "outputs": [
    {
     "name": "stdout",
     "output_type": "stream",
     "text": [
      "Enter - https://docs.python.org\n",
      "error: invalid url\n"
     ]
    },
    {
     "ename": "OSError",
     "evalue": "[WinError 10057] A request to send or receive data was disallowed because the socket is not connected and (when sending on a datagram socket using a sendto call) no address was supplied",
     "output_type": "error",
     "traceback": [
      "\u001b[1;31m---------------------------------------------------------------------------\u001b[0m",
      "\u001b[1;31mOSError\u001b[0m                                   Traceback (most recent call last)",
      "Input \u001b[1;32mIn [37]\u001b[0m, in \u001b[0;36m<cell line: 16>\u001b[1;34m()\u001b[0m\n\u001b[0;32m     13\u001b[0m \u001b[38;5;66;03m#send the GET command followed by blank line\u001b[39;00m\n\u001b[0;32m     14\u001b[0m \u001b[38;5;66;03m# /r/n/r/n signifies nothing between two EOL sequences.\u001b[39;00m\n\u001b[0;32m     15\u001b[0m cmd \u001b[38;5;241m=\u001b[39m \u001b[38;5;124mf\u001b[39m\u001b[38;5;124m'\u001b[39m\u001b[38;5;124mGET \u001b[39m\u001b[38;5;132;01m{\u001b[39;00murl\u001b[38;5;132;01m}\u001b[39;00m\u001b[38;5;124m'\u001b[39m\u001b[38;5;241m.\u001b[39mencode()\n\u001b[1;32m---> 16\u001b[0m \u001b[43mmysock\u001b[49m\u001b[38;5;241;43m.\u001b[39;49m\u001b[43msend\u001b[49m\u001b[43m(\u001b[49m\u001b[43mcmd\u001b[49m\u001b[43m)\u001b[49m\n\u001b[0;32m     18\u001b[0m \u001b[38;5;28;01mwhile\u001b[39;00m \u001b[38;5;28;01mTrue\u001b[39;00m:\n\u001b[0;32m     19\u001b[0m     data \u001b[38;5;241m=\u001b[39m mysock\u001b[38;5;241m.\u001b[39mrecv(\u001b[38;5;241m512\u001b[39m)\n",
      "\u001b[1;31mOSError\u001b[0m: [WinError 10057] A request to send or receive data was disallowed because the socket is not connected and (when sending on a datagram socket using a sendto call) no address was supplied"
     ]
    }
   ],
   "source": [
    "import socket\n",
    "\n",
    "mysock = socket.socket(socket.AF_INET, socket.SOCK_STREAM)\n",
    "\n",
    "#makes a connection to port 80 on server www.pr4e.com\n",
    "\n",
    "url = input('Enter - ').split('//'[1])\n",
    "try:\n",
    "    mysock.connect((url,80))\n",
    "except:\n",
    "    print('error: invalid url')\n",
    "\n",
    "#send the GET command followed by blank line\n",
    "# /r/n/r/n signifies nothing between two EOL sequences.\n",
    "\n",
    "cmd = f'GET {url}'.encode()\n",
    "mysock.send(cmd)\n",
    "\n",
    "while True:\n",
    "    data = mysock.recv(512)\n",
    "    if len(data) < 1:\n",
    "        break\n",
    "    print(data.decode(), end='')\n",
    "    \n",
    "mysock.close()"
   ]
  },
  {
   "cell_type": "code",
   "execution_count": 30,
   "id": "6334b2ba",
   "metadata": {},
   "outputs": [
    {
     "data": {
      "text/plain": [
       "'docs.python.org'"
      ]
     },
     "execution_count": 30,
     "metadata": {},
     "output_type": "execute_result"
    }
   ],
   "source": [
    "url[2]"
   ]
  },
  {
   "cell_type": "code",
   "execution_count": null,
   "id": "328b65bf",
   "metadata": {},
   "outputs": [],
   "source": []
  },
  {
   "cell_type": "code",
   "execution_count": null,
   "id": "89c719cb",
   "metadata": {},
   "outputs": [],
   "source": []
  },
  {
   "cell_type": "code",
   "execution_count": null,
   "id": "554151c4",
   "metadata": {},
   "outputs": [],
   "source": []
  },
  {
   "cell_type": "code",
   "execution_count": null,
   "id": "11805e37",
   "metadata": {},
   "outputs": [],
   "source": []
  },
  {
   "cell_type": "markdown",
   "id": "fefd939b",
   "metadata": {},
   "source": [
    "## Exercise 2: \n",
    "Change your socket program so that it counts the number of characters it has received and stops displaying any text after it has shown 3000 characters. The program should retrieve the entire document and count the total number of characters and display the count of the number of characters at the end of the document.\n"
   ]
  },
  {
   "cell_type": "code",
   "execution_count": null,
   "id": "d9c8c6b8",
   "metadata": {},
   "outputs": [],
   "source": []
  },
  {
   "cell_type": "markdown",
   "id": "a311600f",
   "metadata": {},
   "source": [
    "## Exercise 3: \n",
    "Use urllib to replicate the previous exercise of \n",
    "\n",
    "    1. retrieving the document from a URL, \n",
    "    2. displaying up to 3000 characters, and \n",
    "    3. counting the overall number of characters in the document. \n",
    "    \n",
    "   Don’t worry about the headers for this exercise, simply show the first 3000 characters of the document contents.\n"
   ]
  },
  {
   "cell_type": "code",
   "execution_count": null,
   "id": "fa8b9cfc",
   "metadata": {},
   "outputs": [],
   "source": []
  },
  {
   "cell_type": "markdown",
   "id": "45bfc8f0",
   "metadata": {},
   "source": [
    "## Exercise 4:  \n",
    "Change the urllinks.py program to extract and count paragraph (p) tags from the retrieved HTML document and display the count of the paragraphs as the output of your program. Do not display the paragraph text, only count them. Test your program on several small web pages as well as some larger web pages.\n"
   ]
  },
  {
   "cell_type": "code",
   "execution_count": null,
   "id": "932d1583",
   "metadata": {},
   "outputs": [],
   "source": []
  },
  {
   "cell_type": "markdown",
   "id": "bbc50504",
   "metadata": {},
   "source": [
    "## Exercise 5: \n",
    "\n",
    "(Advanced) Change the socket program so that it only shows data after the headers and a blank line have been received. Remember that recv receives characters (newlines and all), not lines."
   ]
  },
  {
   "cell_type": "code",
   "execution_count": null,
   "id": "3255d285",
   "metadata": {},
   "outputs": [],
   "source": []
  }
 ],
 "metadata": {
  "hide_input": false,
  "kernelspec": {
   "display_name": "Python 3 (ipykernel)",
   "language": "python",
   "name": "python3"
  },
  "language_info": {
   "codemirror_mode": {
    "name": "ipython",
    "version": 3
   },
   "file_extension": ".py",
   "mimetype": "text/x-python",
   "name": "python",
   "nbconvert_exporter": "python",
   "pygments_lexer": "ipython3",
   "version": "3.9.12"
  }
 },
 "nbformat": 4,
 "nbformat_minor": 5
}
