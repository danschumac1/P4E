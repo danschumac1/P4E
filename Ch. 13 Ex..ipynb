{
 "cells": [
  {
   "cell_type": "markdown",
   "id": "c0c4dd9a",
   "metadata": {},
   "source": [
    "# Ch. 13\n"
   ]
  },
  {
   "cell_type": "markdown",
   "id": "788bc10f",
   "metadata": {},
   "source": [
    "## Notes"
   ]
  },
  {
   "cell_type": "markdown",
   "id": "3203bc60",
   "metadata": {},
   "source": [
    "### XML"
   ]
  },
  {
   "cell_type": "code",
   "execution_count": 1,
   "id": "aaeedb0c",
   "metadata": {},
   "outputs": [],
   "source": [
    "import xml.etree.ElementTree as ET"
   ]
  },
  {
   "cell_type": "code",
   "execution_count": 7,
   "id": "fffddeb4",
   "metadata": {},
   "outputs": [],
   "source": [
    "data = '''\n",
    "<person>\n",
    "    <name>Chuck</name>\n",
    "    <phone type = 'intel'>\n",
    "        +1 734 303 4456\n",
    "    </phone>\n",
    "    <email hide = 'yes'/>\n",
    "</person>\n",
    "'''"
   ]
  },
  {
   "cell_type": "code",
   "execution_count": 11,
   "id": "1b85112a",
   "metadata": {},
   "outputs": [
    {
     "name": "stdout",
     "output_type": "stream",
     "text": [
      "Name: Chuck\n",
      "Atrr: yes\n",
      "PHONE: +1 734 303 4456\n"
     ]
    }
   ],
   "source": [
    "#fromstring converts the string representation of XML into a 'tree' of XML elements\n",
    "tree = ET.fromstring(data)\n",
    "\n",
    "# find() searches for tags and returns data\n",
    "print('Name:', tree.find('name').text)\n",
    "print('Atrr:', tree.find('email').get('hide'))\n",
    "\n",
    "# let me try one on my own\n",
    "print('PHONE:', tree.find('phone').text.strip())"
   ]
  },
  {
   "cell_type": "markdown",
   "id": "814fb4f5",
   "metadata": {},
   "source": [
    "### Looping through nodes"
   ]
  },
  {
   "cell_type": "code",
   "execution_count": 16,
   "id": "d469ecc2",
   "metadata": {},
   "outputs": [],
   "source": [
    "input = '''\n",
    "<stuff>\n",
    "    <users>\n",
    "        <user x = '2'>\n",
    "            <id>001</id>\n",
    "            <name>Chuck</name>\n",
    "        </user>\n",
    "        <user x = '7'>\n",
    "            <id>009</id>\n",
    "            <name>Brent</name>\n",
    "        </user>\n",
    "    </users>\n",
    "</stuff>\n",
    "'''"
   ]
  },
  {
   "cell_type": "code",
   "execution_count": 20,
   "id": "3ffdfcaf",
   "metadata": {},
   "outputs": [
    {
     "name": "stdout",
     "output_type": "stream",
     "text": [
      "User count: 2\n"
     ]
    }
   ],
   "source": [
    "stuff = ET.fromstring(input)\n",
    "userList = stuff.findall('users/user')\n",
    "print('User count:', len(userList))"
   ]
  },
  {
   "cell_type": "code",
   "execution_count": 25,
   "id": "486518d4",
   "metadata": {},
   "outputs": [
    {
     "name": "stdout",
     "output_type": "stream",
     "text": [
      "Name: Chuck\n",
      "ID: 001\n",
      "Attribute: 2\n",
      "\n",
      "\n",
      "Name: Brent\n",
      "ID: 009\n",
      "Attribute: 7\n",
      "\n",
      "\n"
     ]
    }
   ],
   "source": [
    "for item in userList:\n",
    "    print('Name:', item.find('name').text)\n",
    "    print('ID:', item.find('id').text)\n",
    "    print('Attribute:', item.get('x'))\n",
    "    print('\\n')"
   ]
  },
  {
   "cell_type": "markdown",
   "id": "7ad4e38f",
   "metadata": {},
   "source": [
    "### Json"
   ]
  },
  {
   "cell_type": "code",
   "execution_count": 26,
   "id": "7f76913f",
   "metadata": {},
   "outputs": [
    {
     "data": {
      "text/plain": [
       "{'name': 'chuck',\n",
       " 'phone': {'type': 'intl', 'number': '+1 734 303 4456'},\n",
       " 'email': {'hide': 'yes'}}"
      ]
     },
     "execution_count": 26,
     "metadata": {},
     "output_type": "execute_result"
    }
   ],
   "source": [
    "#it is pretty much a dictionary of dictionaries.\n",
    "{\n",
    "    'name' : 'chuck',\n",
    "    'phone': {\n",
    "        'type' : 'intl',\n",
    "        'number' : '+1 734 303 4456'\n",
    "    },\n",
    "    'email' : {\n",
    "        'hide': 'yes'\n",
    "    }\n",
    "}"
   ]
  },
  {
   "cell_type": "code",
   "execution_count": null,
   "id": "ed7783a0",
   "metadata": {},
   "outputs": [],
   "source": []
  },
  {
   "cell_type": "code",
   "execution_count": 28,
   "id": "4284aab6",
   "metadata": {},
   "outputs": [],
   "source": [
    "import json\n",
    "data = '''\n",
    "\n",
    "[\n",
    "    { \"id\" : \"001\",\n",
    "        \"x\" : \"2\",\n",
    "        \"name\" : \"Chuck\"\n",
    "    } ,\n",
    "    { \"id\" : \"009\",\n",
    "        \"x\" : \"7\",\n",
    "        \"name\" : \"Brent\"\n",
    "    }\n",
    "]\n",
    "\n",
    "'''"
   ]
  },
  {
   "cell_type": "code",
   "execution_count": 37,
   "id": "a105cf1b",
   "metadata": {},
   "outputs": [
    {
     "name": "stdout",
     "output_type": "stream",
     "text": [
      "User count: 2 \n",
      "\n",
      "Username: Chuck\n",
      "Id 001\n",
      "Attribute 2\n",
      "\n",
      "\n",
      "Username: Brent\n",
      "Id 009\n",
      "Attribute 7\n",
      "\n",
      "\n"
     ]
    }
   ],
   "source": [
    "info = json.loads(data)\n",
    "\n",
    "print('User count:', len(info), '\\n')\n",
    "\n",
    "for item in info:\n",
    "    print('Username:', item['name'])\n",
    "    print('Id', item['id'])\n",
    "    print('Attribute', item['x'])\n",
    "    print('\\n')"
   ]
  },
  {
   "cell_type": "markdown",
   "id": "8ce9f981",
   "metadata": {},
   "source": [
    "### APIs"
   ]
  },
  {
   "cell_type": "code",
   "execution_count": 40,
   "id": "88ad4347",
   "metadata": {},
   "outputs": [
    {
     "ename": "TypeError",
     "evalue": "'str' object is not callable",
     "output_type": "error",
     "traceback": [
      "\u001b[1;31m---------------------------------------------------------------------------\u001b[0m",
      "\u001b[1;31mTypeError\u001b[0m                                 Traceback (most recent call last)",
      "Input \u001b[1;32mIn [40]\u001b[0m, in \u001b[0;36m<cell line: 22>\u001b[1;34m()\u001b[0m\n\u001b[0;32m     19\u001b[0m ctx\u001b[38;5;241m.\u001b[39mverify_mode \u001b[38;5;241m=\u001b[39m ssl\u001b[38;5;241m.\u001b[39mCERT_NONE\n\u001b[0;32m     21\u001b[0m \u001b[38;5;28;01mwhile\u001b[39;00m \u001b[38;5;28;01mTrue\u001b[39;00m:\n\u001b[1;32m---> 22\u001b[0m     address \u001b[38;5;241m=\u001b[39m \u001b[38;5;28;43minput\u001b[39;49m\u001b[43m(\u001b[49m\u001b[43m)\u001b[49m\n\u001b[0;32m     23\u001b[0m     \u001b[38;5;28;01mif\u001b[39;00m \u001b[38;5;28mlen\u001b[39m(address) \u001b[38;5;241m<\u001b[39m \u001b[38;5;241m1\u001b[39m: \u001b[38;5;28;01mbreak\u001b[39;00m\n\u001b[0;32m     25\u001b[0m     parms \u001b[38;5;241m=\u001b[39m \u001b[38;5;28mdict\u001b[39m()\n",
      "\u001b[1;31mTypeError\u001b[0m: 'str' object is not callable"
     ]
    }
   ],
   "source": [
    "import urllib.request, urllib.parse, urllib.error\n",
    "import json\n",
    "import ssl\n",
    "\n",
    "api_key = False\n",
    "# If you have a Google Places API key, enter it here\n",
    "# api_key = 'AIzaSy___IDByT70'\n",
    "# https://developers.google.com/maps/documentation/geocoding/intro\n",
    "\n",
    "if api_key is False:\n",
    "    api_key = 42\n",
    "    serviceurl = 'http://py4e-data.dr-chuck.net/json?'\n",
    "else :\n",
    "    serviceurl = 'https://maps.googleapis.com/maps/api/geocode/json?'\n",
    "    \n",
    "# Ignore SSL certificate errors\n",
    "ctx = ssl.create_default_context()\n",
    "ctx.check_hostname = False\n",
    "ctx.verify_mode = ssl.CERT_NONE\n",
    "\n",
    "while True:\n",
    "    address = input('Enter location: ')\n",
    "    if len(address) < 1: break\n",
    "        \n",
    "    parms = dict()\n",
    "    parms['address'] = address\n",
    "    if api_key is not False: parms['key'] = api_key\n",
    "    url = serviceurl + urllib.parse.urlencode(parms)\n",
    "    \n",
    "    print('Retrieving', url)\n",
    "    uh = urllib.request.urlopen(url, context=ctx)\n",
    "    data = uh.read().decode()\n",
    "    print('Retrieved', len(data), 'characters')\n",
    "    \n",
    "    try:\n",
    "        js = json.loads(data)\n",
    "    except:\n",
    "        js = None\n",
    "    if not js or 'status' not in js or js['status'] != 'OK':\n",
    "        print('==== Failure To Retrieve ====')\n",
    "        print(data)\n",
    "        continue\n",
    "        \n",
    "    print(json.dumps(js, indent=4))\n",
    "    lat = js['results'][0]['geometry']['location']['lat']\n",
    "    lng = js['results'][0]['geometry']['location']['lng']\n",
    "    print('lat', lat, 'lng', lng)\n",
    "    location = js['results'][0]['formatted_address']\n",
    "    print(location)"
   ]
  }
 ],
 "metadata": {
  "hide_input": false,
  "kernelspec": {
   "display_name": "Python 3 (ipykernel)",
   "language": "python",
   "name": "python3"
  },
  "language_info": {
   "codemirror_mode": {
    "name": "ipython",
    "version": 3
   },
   "file_extension": ".py",
   "mimetype": "text/x-python",
   "name": "python",
   "nbconvert_exporter": "python",
   "pygments_lexer": "ipython3",
   "version": "3.9.12"
  }
 },
 "nbformat": 4,
 "nbformat_minor": 5
}
