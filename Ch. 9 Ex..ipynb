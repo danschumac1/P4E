{
 "cells": [
  {
   "cell_type": "markdown",
   "id": "adcce306",
   "metadata": {},
   "source": [
    "## Exercise 1\n",
    "\n",
    "#### Write a program that \n",
    "    reads the words in words.txt and stores them as keys in a dictionary. It doesn’t matter what the values are. \n",
    "    Then you can use the in operator as a fast way to check whether a string is in the dictionary."
   ]
  },
  {
   "cell_type": "code",
   "execution_count": 2,
   "id": "30f45561",
   "metadata": {},
   "outputs": [],
   "source": [
    "dictionary = {}\n",
    "dictionary['one'] = 'uno'"
   ]
  },
  {
   "cell_type": "code",
   "execution_count": 3,
   "id": "9425e9e6",
   "metadata": {},
   "outputs": [
    {
     "data": {
      "text/plain": [
       "{'one': 'uno'}"
      ]
     },
     "execution_count": 3,
     "metadata": {},
     "output_type": "execute_result"
    }
   ],
   "source": [
    "dictionary"
   ]
  },
  {
   "cell_type": "code",
   "execution_count": 9,
   "id": "f845bf3c",
   "metadata": {},
   "outputs": [],
   "source": [
    "file = open('words.txt.')\n",
    "value = 0\n",
    "dictionary = {}\n",
    "\n",
    "for line in file:\n",
    "    words = line.split()\n",
    "    for word in words:\n",
    "        if word not in dictionary:\n",
    "            dictionary[word] = value\n",
    "            value += 1"
   ]
  },
  {
   "cell_type": "code",
   "execution_count": 10,
   "id": "d37fd3cb",
   "metadata": {},
   "outputs": [
    {
     "data": {
      "text/plain": [
       "{'Writing': 0,\n",
       " 'programs': 1,\n",
       " 'or': 2,\n",
       " 'programming': 3,\n",
       " 'is': 4,\n",
       " 'a': 5,\n",
       " 'very': 6,\n",
       " 'creative': 7,\n",
       " 'and': 8,\n",
       " 'rewarding': 9,\n",
       " 'activity': 10,\n",
       " 'You': 11,\n",
       " 'can': 12,\n",
       " 'write': 13,\n",
       " 'for': 14,\n",
       " 'many': 15,\n",
       " 'reasons': 16,\n",
       " 'ranging': 17,\n",
       " 'from': 18,\n",
       " 'making': 19,\n",
       " 'your': 20,\n",
       " 'living': 21,\n",
       " 'to': 22,\n",
       " 'solving': 23,\n",
       " 'difficult': 24,\n",
       " 'data': 25,\n",
       " 'analysis': 26,\n",
       " 'problem': 27,\n",
       " 'having': 28,\n",
       " 'fun': 29,\n",
       " 'helping': 30,\n",
       " 'someone': 31,\n",
       " 'else': 32,\n",
       " 'solve': 33,\n",
       " 'This': 34,\n",
       " 'book': 35,\n",
       " 'assumes': 36,\n",
       " 'that': 37,\n",
       " '{\\\\em': 38,\n",
       " 'everyone}': 39,\n",
       " 'needs': 40,\n",
       " 'know': 41,\n",
       " 'how': 42,\n",
       " 'program': 43,\n",
       " 'once': 44,\n",
       " 'you': 45,\n",
       " 'program,': 46,\n",
       " 'will': 47,\n",
       " 'figure': 48,\n",
       " 'out': 49,\n",
       " 'what': 50,\n",
       " 'want': 51,\n",
       " 'do': 52,\n",
       " 'with': 53,\n",
       " 'newfound': 54,\n",
       " 'skills': 55,\n",
       " 'We': 56,\n",
       " 'are': 57,\n",
       " 'surrounded': 58,\n",
       " 'in': 59,\n",
       " 'our': 60,\n",
       " 'daily': 61,\n",
       " 'lives': 62,\n",
       " 'computers': 63,\n",
       " 'laptops': 64,\n",
       " 'cell': 65,\n",
       " 'phones': 66,\n",
       " 'think': 67,\n",
       " 'of': 68,\n",
       " 'these': 69,\n",
       " 'as': 70,\n",
       " 'personal': 71,\n",
       " 'assistants': 72,\n",
       " 'who': 73,\n",
       " 'take': 74,\n",
       " 'care': 75,\n",
       " 'things': 76,\n",
       " 'on': 77,\n",
       " 'behalf': 78,\n",
       " 'The': 79,\n",
       " 'hardware': 80,\n",
       " 'current-day': 81,\n",
       " 'essentially': 82,\n",
       " 'built': 83,\n",
       " 'continuously': 84,\n",
       " 'ask': 85,\n",
       " 'us': 86,\n",
       " 'the': 87,\n",
       " 'question': 88,\n",
       " 'What': 89,\n",
       " 'would': 90,\n",
       " 'like': 91,\n",
       " 'me': 92,\n",
       " 'next': 93,\n",
       " 'Our': 94,\n",
       " 'fast': 95,\n",
       " 'have': 96,\n",
       " 'vasts': 97,\n",
       " 'amounts': 98,\n",
       " 'memory': 99,\n",
       " 'could': 100,\n",
       " 'be': 101,\n",
       " 'helpful': 102,\n",
       " 'if': 103,\n",
       " 'we': 104,\n",
       " 'only': 105,\n",
       " 'knew': 106,\n",
       " 'language': 107,\n",
       " 'speak': 108,\n",
       " 'explain': 109,\n",
       " 'computer': 110,\n",
       " 'it': 111,\n",
       " 'If': 112,\n",
       " 'this': 113,\n",
       " 'tell': 114,\n",
       " 'tasks': 115,\n",
       " 'were': 116,\n",
       " 'reptitive': 117,\n",
       " 'Interestingly,': 118,\n",
       " 'kinds': 119,\n",
       " 'best': 120,\n",
       " 'often': 121,\n",
       " 'humans': 122,\n",
       " 'find': 123,\n",
       " 'boring': 124,\n",
       " 'mind-numbing': 125}"
      ]
     },
     "execution_count": 10,
     "metadata": {},
     "output_type": "execute_result"
    }
   ],
   "source": [
    "dictionary"
   ]
  },
  {
   "cell_type": "markdown",
   "id": "32b11789",
   "metadata": {},
   "source": [
    "## Exercise 2:\n",
    "#### Write a program that categorizes each mail message by which day of the week the commit was done. To do this look for lines that start with “From”, then look for the third word and keep a running count of each of the days of the week. At the end of the program print out the contents of your dictionary (order does not matter)."
   ]
  },
  {
   "cell_type": "code",
   "execution_count": 1,
   "id": "2252405f",
   "metadata": {},
   "outputs": [
    {
     "name": "stdout",
     "output_type": "stream",
     "text": [
      "{'Sat': 61, 'Fri': 315, 'Thu': 392, 'Wed': 292, 'Tue': 372, 'Mon': 299, 'Sun': 66}\n"
     ]
    }
   ],
   "source": [
    "mbox = open('mbox.txt')\n",
    "dictionary = dict()\n",
    "\n",
    "for line in mbox:\n",
    "    words = line.split()\n",
    "    if len(words) <3 or words[0] != 'From': continue\n",
    "    day = words[2]\n",
    "    dictionary[day] = dictionary.get(day, 0) + 1\n",
    "    \n",
    "print(dictionary)"
   ]
  },
  {
   "cell_type": "markdown",
   "id": "b7affb8c",
   "metadata": {},
   "source": [
    "## Exercise 3: \n",
    "#### Write a program to read through a mail log, build a histogram using a dictionary to count how many messages have come from each email address, and print the dictionary.\n"
   ]
  },
  {
   "cell_type": "code",
   "execution_count": 14,
   "id": "69595712",
   "metadata": {},
   "outputs": [
    {
     "name": "stdout",
     "output_type": "stream",
     "text": [
      "stephen.marquard@uct.ac.za :  29\n",
      "louis@media.berkeley.edu :  24\n",
      "zqian@umich.edu :  195\n",
      "rjlowe@iupui.edu :  90\n",
      "cwen@iupui.edu :  158\n",
      "gsilver@umich.edu :  28\n",
      "wagnermr@iupui.edu :  44\n",
      "antranig@caret.cam.ac.uk :  18\n",
      "gopal.ramasammycook@gmail.com :  25\n",
      "david.horwitz@uct.ac.za :  67\n",
      "ray@media.berkeley.edu :  32\n",
      "mmmay@indiana.edu :  161\n",
      "stuart.freeman@et.gatech.edu :  17\n",
      "tnguyen@iupui.edu :  6\n",
      "chmaurer@iupui.edu :  111\n",
      "aaronz@vt.edu :  110\n",
      "ian@caret.cam.ac.uk :  96\n",
      "csev@umich.edu :  19\n",
      "jimeng@umich.edu :  93\n",
      "josrodri@iupui.edu :  28\n",
      "knoop@umich.edu :  5\n",
      "bkirschn@umich.edu :  27\n",
      "dlhaines@umich.edu :  84\n",
      "hu2@iupui.edu :  7\n",
      "sgithens@caret.cam.ac.uk :  43\n",
      "arwhyte@umich.edu :  27\n",
      "gbhatnag@umich.edu :  3\n",
      "gjthomas@iupui.edu :  44\n",
      "a.fish@lancaster.ac.uk :  14\n",
      "ajpoland@iupui.edu :  48\n",
      "lance@indiana.edu :  8\n",
      "ssmail@indiana.edu :  5\n",
      "jlrenfro@ucdavis.edu :  1\n",
      "nuno@ufp.pt :  28\n",
      "zach.thomas@txstate.edu :  17\n",
      "ktsao@stanford.edu :  12\n",
      "ostermmg@whitman.edu :  17\n",
      "john.ellis@rsmart.com :  8\n",
      "jleasia@umich.edu :  2\n",
      "ggolden@umich.edu :  8\n",
      "thoppaymallika@fhda.edu :  1\n",
      "kimsooil@bu.edu :  14\n",
      "bahollad@indiana.edu :  4\n",
      "jzaremba@unicon.net :  9\n",
      "mbreuker@loi.nl :  9\n",
      "colin.clark@utoronto.ca :  1\n"
     ]
    }
   ],
   "source": [
    "mbox = open('mbox.txt')\n",
    "dictionary = dict()\n",
    "for line in mbox:\n",
    "    words = line.split()\n",
    "    if len(words) <3 or words[0] != 'From': continue\n",
    "    email = words[1]\n",
    "    dictionary[email] = dictionary.get(email, 0) + 1\n",
    "\n",
    "for item in dictionary:\n",
    "    print(item,': ',dictionary[item])"
   ]
  },
  {
   "cell_type": "markdown",
   "id": "2a002263",
   "metadata": {},
   "source": [
    "## Exercise 4: \n",
    "#### Add code to the above program to figure out who has the most messages in the file. After all the data has been read and the dictionary has been created, look through the dictionary using a maximum loop (see Chapter 5: Maximum and minimum loops) to find who has the most messages and print how many messages the person has."
   ]
  },
  {
   "cell_type": "code",
   "execution_count": 35,
   "id": "94fa600c",
   "metadata": {
    "scrolled": false
   },
   "outputs": [],
   "source": [
    "values_list = list(dictionary.values())"
   ]
  },
  {
   "cell_type": "code",
   "execution_count": 36,
   "id": "29b3086d",
   "metadata": {},
   "outputs": [],
   "source": [
    "keys_list = list(dictionary.keys())"
   ]
  },
  {
   "cell_type": "code",
   "execution_count": 33,
   "id": "8152c7ec",
   "metadata": {
    "scrolled": true
   },
   "outputs": [],
   "source": [
    "position = values_list.index(195)"
   ]
  },
  {
   "cell_type": "code",
   "execution_count": 37,
   "id": "18d15ffd",
   "metadata": {},
   "outputs": [
    {
     "data": {
      "text/plain": [
       "'zqian@umich.edu'"
      ]
     },
     "execution_count": 37,
     "metadata": {},
     "output_type": "execute_result"
    }
   ],
   "source": [
    "k[position]"
   ]
  },
  {
   "cell_type": "code",
   "execution_count": 40,
   "id": "0ddfe641",
   "metadata": {},
   "outputs": [
    {
     "name": "stdout",
     "output_type": "stream",
     "text": [
      "From  zqian@umich.edu  Most emails:  195\n"
     ]
    }
   ],
   "source": [
    "values_list = list(dictionary.values())\n",
    "keys_list = list(dictionary.keys())\n",
    "largest = None\n",
    "\n",
    "for value in dictionary.values():\n",
    "    if largest is None or value > largest :\n",
    "        largest = value\n",
    "\n",
    "position = values_list.index(195)\n",
    "email = keys_list[position]\n",
    "    \n",
    "print('From ', email,' Most emails: ', largest)\n"
   ]
  },
  {
   "cell_type": "markdown",
   "id": "85c3a19f",
   "metadata": {},
   "source": [
    "## Exercise 5: \n",
    "#### This program records the domain name (instead of the address) where the message was sent from instead of who the mail came from (i.e., the whole email address). At the end of the program, print out the contents of your dictionary."
   ]
  },
  {
   "cell_type": "code",
   "execution_count": 43,
   "id": "a0469c1a",
   "metadata": {},
   "outputs": [
    {
     "name": "stdout",
     "output_type": "stream",
     "text": [
      "uct.ac.za :  96\n",
      "media.berkeley.edu :  56\n",
      "umich.edu :  491\n",
      "iupui.edu :  536\n",
      "caret.cam.ac.uk :  157\n",
      "gmail.com :  25\n",
      "indiana.edu :  178\n",
      "et.gatech.edu :  17\n",
      "vt.edu :  110\n",
      "lancaster.ac.uk :  14\n",
      "ucdavis.edu :  1\n",
      "ufp.pt :  28\n",
      "txstate.edu :  17\n",
      "stanford.edu :  12\n",
      "whitman.edu :  17\n",
      "rsmart.com :  8\n",
      "fhda.edu :  1\n",
      "bu.edu :  14\n",
      "unicon.net :  9\n",
      "loi.nl :  9\n",
      "utoronto.ca :  1\n"
     ]
    }
   ],
   "source": [
    "mbox = open('mbox.txt')\n",
    "dictionary = dict()\n",
    "for line in mbox:\n",
    "    words = line.split()\n",
    "    if len(words) <3 or words[0] != 'From': continue\n",
    "    domain = words[1].split('@')[1]\n",
    "    dictionary[domain] = dictionary.get(domain, 0) + 1\n",
    "\n",
    "for item in dictionary:\n",
    "    print(item,': ',dictionary[item])"
   ]
  }
 ],
 "metadata": {
  "hide_input": false,
  "kernelspec": {
   "display_name": "Python 3 (ipykernel)",
   "language": "python",
   "name": "python3"
  },
  "language_info": {
   "codemirror_mode": {
    "name": "ipython",
    "version": 3
   },
   "file_extension": ".py",
   "mimetype": "text/x-python",
   "name": "python",
   "nbconvert_exporter": "python",
   "pygments_lexer": "ipython3",
   "version": "3.9.12"
  }
 },
 "nbformat": 4,
 "nbformat_minor": 5
}
